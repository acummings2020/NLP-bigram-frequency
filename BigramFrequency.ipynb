{
 "cells": [
  {
   "cell_type": "code",
   "execution_count": 5,
   "id": "harmful-worth",
   "metadata": {},
   "outputs": [],
   "source": [
    "import json\n",
    "import nltk"
   ]
  },
  {
   "cell_type": "code",
   "execution_count": 3,
   "id": "elegant-ozone",
   "metadata": {},
   "outputs": [],
   "source": [
    "tweets=[]"
   ]
  },
  {
   "cell_type": "code",
   "execution_count": 7,
   "id": "nonprofit-income",
   "metadata": {},
   "outputs": [],
   "source": [
    "for line in open('664dataset1.json',encoding='utf8'):\n",
    "    tweets.append(json.loads(line))"
   ]
  },
  {
   "cell_type": "code",
   "execution_count": 6,
   "id": "assured-intermediate",
   "metadata": {},
   "outputs": [],
   "source": [
    "for line in open('dataset2IST664.json',encoding='utf8'):\n",
    "    tweets.append(json.loads(line))"
   ]
  },
  {
   "cell_type": "code",
   "execution_count": 8,
   "id": "beautiful-christopher",
   "metadata": {},
   "outputs": [
    {
     "data": {
      "text/plain": [
       "106017"
      ]
     },
     "execution_count": 8,
     "metadata": {},
     "output_type": "execute_result"
    }
   ],
   "source": [
    "len(tweets)"
   ]
  },
  {
   "cell_type": "code",
   "execution_count": 60,
   "id": "uniform-funeral",
   "metadata": {},
   "outputs": [
    {
     "data": {
      "text/plain": [
       "str"
      ]
     },
     "execution_count": 60,
     "metadata": {},
     "output_type": "execute_result"
    }
   ],
   "source": [
    "type(tweets[0][\"text\"])"
   ]
  },
  {
   "cell_type": "code",
   "execution_count": 64,
   "id": "parental-holiday",
   "metadata": {},
   "outputs": [
    {
     "data": {
      "text/plain": [
       "dict"
      ]
     },
     "execution_count": 64,
     "metadata": {},
     "output_type": "execute_result"
    }
   ],
   "source": [
    "type(tweets[0])"
   ]
  },
  {
   "cell_type": "code",
   "execution_count": 69,
   "id": "diverse-danger",
   "metadata": {},
   "outputs": [
    {
     "data": {
      "text/plain": [
       "str"
      ]
     },
     "execution_count": 69,
     "metadata": {},
     "output_type": "execute_result"
    }
   ],
   "source": [
    "text=tweets[4]['text']\n",
    "type(text)"
   ]
  },
  {
   "cell_type": "code",
   "execution_count": 48,
   "id": "canadian-belle",
   "metadata": {
    "collapsed": true,
    "jupyter": {
     "outputs_hidden": true
    }
   },
   "outputs": [
    {
     "data": {
      "text/plain": [
       "{'organizations': [],\n",
       " 'uuid': '0ad32fb9226b172b960cba62027cd8be7d9dfa22',\n",
       " 'thread': {'social': {'gplus': {'shares': 0},\n",
       "   'pinterest': {'shares': 0},\n",
       "   'vk': {'shares': 0},\n",
       "   'linkedin': {'shares': 0},\n",
       "   'facebook': {'likes': 0, 'shares': 0, 'comments': 0},\n",
       "   'stumbledupon': {'shares': 0}},\n",
       "  'site_full': 'm.dailyhunt.in',\n",
       "  'main_image': 'http://assets-news-bcdn.dailyhunt.in/cmd/resize/400x400_60/fetchdata15/images/bb/ef/20/bbef200bb1a714d3de39d36553f7c89f.jpg',\n",
       "  'site_section': 'https://m.dailyhunt.in/news/india/english/local+state+news-topics-6',\n",
       "  'section_title': '',\n",
       "  'url': 'https://m.dailyhunt.in/news/india/english/udayavani+english-epaper-udayaeng/karnataka+helplines+isolation+wards+set+up+for+coronavirus-newsid-162714838',\n",
       "  'country': 'IN',\n",
       "  'domain_rank': 14412,\n",
       "  'title': 'Karnataka: Helplines, isolation wards set up for coronavirus - Udayavani',\n",
       "  'performance_score': 0,\n",
       "  'site': 'dailyhunt.in',\n",
       "  'participants_count': 1,\n",
       "  'title_full': '',\n",
       "  'spam_score': 0.0,\n",
       "  'site_type': 'news',\n",
       "  'published': '2020-01-31T11:46:00.000+02:00',\n",
       "  'replies_count': 0,\n",
       "  'uuid': '0ad32fb9226b172b960cba62027cd8be7d9dfa22'},\n",
       " 'author': 'Udayavani',\n",
       " 'url': 'https://m.dailyhunt.in/news/india/english/udayavani+english-epaper-udayaeng/karnataka+helplines+isolation+wards+set+up+for+coronavirus-newsid-162714838',\n",
       " 'ord_in_thread': 0,\n",
       " 'title': 'Karnataka: Helplines, isolation wards set up for coronavirus - Udayavani',\n",
       " 'locations': [],\n",
       " 'entities': {'persons': [],\n",
       "  'locations': [{'name': 'karnataka', 'sentiment': 'none'},\n",
       "   {'name': 'mangaluru', 'sentiment': 'none'},\n",
       "   {'name': 'bengaluru', 'sentiment': 'none'},\n",
       "   {'name': 'kerala', 'sentiment': 'none'},\n",
       "   {'name': 'india', 'sentiment': 'none'},\n",
       "   {'name': 'wenlock hospital', 'sentiment': 'none'}],\n",
       "  'organizations': [{'name': 'viral research and diagnostic laboratory',\n",
       "    'sentiment': 'none'},\n",
       "   {'name': 'national institute of virology', 'sentiment': 'none'},\n",
       "   {'name': 'national health mission', 'sentiment': 'none'},\n",
       "   {'name': 'rajiv gandhi institute of chest diseases', 'sentiment': 'none'},\n",
       "   {'name': 'bangalore medical college & research institute',\n",
       "    'sentiment': 'none'}]},\n",
       " 'highlightText': '',\n",
       " 'language': 'english',\n",
       " 'persons': [],\n",
       " 'text': 'Bengaluru: Isolation wards in hospitals across Karnataka and helpline to take calls on coronavirus-related queries are ready to prevent any further spread of the virus after the first case in India was reported from Kerala yesterday.\\nThe Chief Secretary of the state government on Thursday held a meeting with the Additional Chief Secretary (Health), Health Commissioner, Mission Director of the National Health Mission and other health department officials and reviewed the state preparedness to tackle any cases of coronavirus whenever reported.\\nRajiv Gandhi Institute of Chest Diseases (RGICD) with 15 beds and Wenlock Hospital at Mangaluru with 10 beds have been selected for the treatment of the virus.\\nAll district hospitals will have five beds isolated for patients carrying the virus. Along with this, at least ten private hospitals in Bengaluru will be setting up similar isolation wards.\\nThe National Institute of Virology and the Viral Research and Diagnostic Laboratory at the Bangalore Medical College & Research Institute have been roped in for the testing of the virus for the next few days.\\n104 Arogya Sahayavani helpline run by the Health Department will take all calls related to the virus.\\n Udayavani English',\n",
       " 'external_links': [],\n",
       " 'published': '2020-01-31T11:46:00.000+02:00',\n",
       " 'crawled': '2020-01-31T17:18:04.007+02:00',\n",
       " 'highlightTitle': ''}"
      ]
     },
     "execution_count": 48,
     "metadata": {},
     "output_type": "execute_result"
    }
   ],
   "source": [
    "tweets[0]"
   ]
  },
  {
   "cell_type": "code",
   "execution_count": 9,
   "id": "coupled-modern",
   "metadata": {},
   "outputs": [],
   "source": [
    "#\"facebook\":{…}, \"title\", \"published\", \"replies_count\", \"author\", \"url\", \"country\", \"text\". \n",
    "posttext=[]\n",
    "facebookName=[]\n",
    "titles=[]\n",
    "published=[]\n",
    "replies_counts=[] \n",
    "authors=[]\n",
    "urls=[]\n",
    "countries=[] \n",
    "for i in range(len(tweets)):\n",
    "    text=tweets[i][\"text\"]\n",
    "    posttext.append(text)\n",
    "    social=tweets[i]['thread']['social']['facebook']\n",
    "    facebookName.append(social)\n",
    "    titles.append(tweets[i]['title'])\n",
    "    published.append(tweets[i]['published'])\n",
    "    replies_counts.append(tweets[i]['thread']['replies_count'])\n",
    "    authors.append(tweets[i]['author'])\n",
    "    urls.append(tweets[i]['url'])\n",
    "    countries.append(tweets[i]['thread']['country'])\n"
   ]
  },
  {
   "cell_type": "code",
   "execution_count": 40,
   "id": "subjective-stream",
   "metadata": {},
   "outputs": [],
   "source": [
    "import pandas as pd"
   ]
  },
  {
   "cell_type": "code",
   "execution_count": 41,
   "id": "running-olympus",
   "metadata": {},
   "outputs": [],
   "source": [
    "df1=pd.DataFrame({\"Titles\":titles,\"Facebook\":facebookName,\"Text\":posttext,\"Published\":published,\"Reply Count\":replies_counts,\"Authors\":authors,\n",
    "          \"URLs\":urls,\"countries\":countries})"
   ]
  },
  {
   "cell_type": "code",
   "execution_count": 42,
   "id": "increasing-yemen",
   "metadata": {},
   "outputs": [
    {
     "data": {
      "text/html": [
       "<div>\n",
       "<style scoped>\n",
       "    .dataframe tbody tr th:only-of-type {\n",
       "        vertical-align: middle;\n",
       "    }\n",
       "\n",
       "    .dataframe tbody tr th {\n",
       "        vertical-align: top;\n",
       "    }\n",
       "\n",
       "    .dataframe thead th {\n",
       "        text-align: right;\n",
       "    }\n",
       "</style>\n",
       "<table border=\"1\" class=\"dataframe\">\n",
       "  <thead>\n",
       "    <tr style=\"text-align: right;\">\n",
       "      <th></th>\n",
       "      <th>Titles</th>\n",
       "      <th>Facebook</th>\n",
       "      <th>Text</th>\n",
       "      <th>Published</th>\n",
       "      <th>Reply Count</th>\n",
       "      <th>Authors</th>\n",
       "      <th>URLs</th>\n",
       "      <th>countries</th>\n",
       "    </tr>\n",
       "  </thead>\n",
       "  <tbody>\n",
       "    <tr>\n",
       "      <th>0</th>\n",
       "      <td>Karnataka: Helplines, isolation wards set up f...</td>\n",
       "      <td>{'likes': 0, 'shares': 0, 'comments': 0}</td>\n",
       "      <td>Bengaluru: Isolation wards in hospitals across...</td>\n",
       "      <td>2020-01-31T11:46:00.000+02:00</td>\n",
       "      <td>0</td>\n",
       "      <td>Udayavani</td>\n",
       "      <td>https://m.dailyhunt.in/news/india/english/uday...</td>\n",
       "      <td>IN</td>\n",
       "    </tr>\n",
       "    <tr>\n",
       "      <th>1</th>\n",
       "      <td>Health dept. monitoring 24 people for possible...</td>\n",
       "      <td>{'likes': 0, 'shares': 0, 'comments': 0}</td>\n",
       "      <td>The government making sure that the new corona...</td>\n",
       "      <td>2020-01-28T02:00:00.000+02:00</td>\n",
       "      <td>0</td>\n",
       "      <td></td>\n",
       "      <td>http://cnnphilippines.com/videos/2020/1/28/Hea...</td>\n",
       "      <td>US</td>\n",
       "    </tr>\n",
       "    <tr>\n",
       "      <th>2</th>\n",
       "      <td></td>\n",
       "      <td>{'likes': 0, 'shares': 0, 'comments': 0}</td>\n",
       "      <td>Apart from more people falling sick (as bad as...</td>\n",
       "      <td>2020-01-31T06:38:00.000+02:00</td>\n",
       "      <td>266</td>\n",
       "      <td>jmccorm</td>\n",
       "      <td>https://news.ycombinator.com/item?id=22194798#...</td>\n",
       "      <td>US</td>\n",
       "    </tr>\n",
       "    <tr>\n",
       "      <th>3</th>\n",
       "      <td>Asian Markets Mostly Higher</td>\n",
       "      <td>{'likes': 0, 'shares': 0, 'comments': 0}</td>\n",
       "      <td>Asian stock markets are mostly higher on Frida...</td>\n",
       "      <td>2020-01-31T05:53:00.000+02:00</td>\n",
       "      <td>0</td>\n",
       "      <td>rttnews.com</td>\n",
       "      <td>https://www.rttnews.com/3064615/asian-markets-...</td>\n",
       "      <td>US</td>\n",
       "    </tr>\n",
       "    <tr>\n",
       "      <th>4</th>\n",
       "      <td>Tesla soars as bearish analysts left with litt...</td>\n",
       "      <td>{'likes': 0, 'shares': 0, 'comments': 0}</td>\n",
       "      <td>Cash flow was also “very strong,” at more than...</td>\n",
       "      <td>2020-01-30T02:00:00.000+02:00</td>\n",
       "      <td>0</td>\n",
       "      <td>Joe Easton</td>\n",
       "      <td>http://www.bnnbloomberg.ca/tesla-soars-as-bear...</td>\n",
       "      <td>CA</td>\n",
       "    </tr>\n",
       "    <tr>\n",
       "      <th>...</th>\n",
       "      <td>...</td>\n",
       "      <td>...</td>\n",
       "      <td>...</td>\n",
       "      <td>...</td>\n",
       "      <td>...</td>\n",
       "      <td>...</td>\n",
       "      <td>...</td>\n",
       "      <td>...</td>\n",
       "    </tr>\n",
       "    <tr>\n",
       "      <th>106012</th>\n",
       "      <td></td>\n",
       "      <td>{'likes': 0, 'shares': 0, 'comments': 0}</td>\n",
       "      <td>Corona virus is the most effective weapon crea...</td>\n",
       "      <td>2020-02-15T18:00:00.000+02:00</td>\n",
       "      <td>6</td>\n",
       "      <td>Duh!</td>\n",
       "      <td>https://news.yahoo.com/xi-details-hands-approa...</td>\n",
       "      <td>US</td>\n",
       "    </tr>\n",
       "    <tr>\n",
       "      <th>106013</th>\n",
       "      <td></td>\n",
       "      <td>{'likes': 0, 'shares': 0, 'comments': 0}</td>\n",
       "      <td>Hope they don't bring coronavirus to these poo...</td>\n",
       "      <td>2020-02-15T11:38:00.000+02:00</td>\n",
       "      <td>30</td>\n",
       "      <td>Henry</td>\n",
       "      <td>https://ph.news.yahoo.com/wandering-ship-becom...</td>\n",
       "      <td>PH</td>\n",
       "    </tr>\n",
       "    <tr>\n",
       "      <th>106014</th>\n",
       "      <td>Wall Street ends in the red as virus fears spo...</td>\n",
       "      <td>{'likes': 0, 'shares': 0, 'comments': 0}</td>\n",
       "      <td>Wall Street Ends In The Red As Virus Fears Spo...</td>\n",
       "      <td>2020-02-14T07:00:00.000+02:00</td>\n",
       "      <td>0</td>\n",
       "      <td></td>\n",
       "      <td>https://www.urdupoint.com/en/miscellaneous/wal...</td>\n",
       "      <td>PK</td>\n",
       "    </tr>\n",
       "    <tr>\n",
       "      <th>106015</th>\n",
       "      <td>News outlets weigh whether new virus will affe...</td>\n",
       "      <td>{'likes': 0, 'shares': 0, 'comments': 0}</td>\n",
       "      <td>Since mid-January, the name on the lips of inc...</td>\n",
       "      <td>2020-02-15T22:25:00.000+02:00</td>\n",
       "      <td>0</td>\n",
       "      <td>Andrew McKirdy</td>\n",
       "      <td>https://www.japantimes.co.jp/news/2020/02/15/n...</td>\n",
       "      <td>JP</td>\n",
       "    </tr>\n",
       "    <tr>\n",
       "      <th>106016</th>\n",
       "      <td>PH shares fall back to 7,200 amid lingering CO...</td>\n",
       "      <td>{'likes': 62, 'shares': 2, 'comments': 23}</td>\n",
       "      <td>PH shares fall back to 7,200 amid lingering CO...</td>\n",
       "      <td>2020-02-14T19:03:00.000+02:00</td>\n",
       "      <td>0</td>\n",
       "      <td>ABS-CBN News</td>\n",
       "      <td>https://news.abs-cbn.com/video/business/02/15/...</td>\n",
       "      <td>US</td>\n",
       "    </tr>\n",
       "  </tbody>\n",
       "</table>\n",
       "<p>106017 rows × 8 columns</p>\n",
       "</div>"
      ],
      "text/plain": [
       "                                                   Titles  \\\n",
       "0       Karnataka: Helplines, isolation wards set up f...   \n",
       "1       Health dept. monitoring 24 people for possible...   \n",
       "2                                                           \n",
       "3                             Asian Markets Mostly Higher   \n",
       "4       Tesla soars as bearish analysts left with litt...   \n",
       "...                                                   ...   \n",
       "106012                                                      \n",
       "106013                                                      \n",
       "106014  Wall Street ends in the red as virus fears spo...   \n",
       "106015  News outlets weigh whether new virus will affe...   \n",
       "106016  PH shares fall back to 7,200 amid lingering CO...   \n",
       "\n",
       "                                          Facebook  \\\n",
       "0         {'likes': 0, 'shares': 0, 'comments': 0}   \n",
       "1         {'likes': 0, 'shares': 0, 'comments': 0}   \n",
       "2         {'likes': 0, 'shares': 0, 'comments': 0}   \n",
       "3         {'likes': 0, 'shares': 0, 'comments': 0}   \n",
       "4         {'likes': 0, 'shares': 0, 'comments': 0}   \n",
       "...                                            ...   \n",
       "106012    {'likes': 0, 'shares': 0, 'comments': 0}   \n",
       "106013    {'likes': 0, 'shares': 0, 'comments': 0}   \n",
       "106014    {'likes': 0, 'shares': 0, 'comments': 0}   \n",
       "106015    {'likes': 0, 'shares': 0, 'comments': 0}   \n",
       "106016  {'likes': 62, 'shares': 2, 'comments': 23}   \n",
       "\n",
       "                                                     Text  \\\n",
       "0       Bengaluru: Isolation wards in hospitals across...   \n",
       "1       The government making sure that the new corona...   \n",
       "2       Apart from more people falling sick (as bad as...   \n",
       "3       Asian stock markets are mostly higher on Frida...   \n",
       "4       Cash flow was also “very strong,” at more than...   \n",
       "...                                                   ...   \n",
       "106012  Corona virus is the most effective weapon crea...   \n",
       "106013  Hope they don't bring coronavirus to these poo...   \n",
       "106014  Wall Street Ends In The Red As Virus Fears Spo...   \n",
       "106015  Since mid-January, the name on the lips of inc...   \n",
       "106016  PH shares fall back to 7,200 amid lingering CO...   \n",
       "\n",
       "                            Published  Reply Count         Authors  \\\n",
       "0       2020-01-31T11:46:00.000+02:00            0       Udayavani   \n",
       "1       2020-01-28T02:00:00.000+02:00            0                   \n",
       "2       2020-01-31T06:38:00.000+02:00          266         jmccorm   \n",
       "3       2020-01-31T05:53:00.000+02:00            0     rttnews.com   \n",
       "4       2020-01-30T02:00:00.000+02:00            0      Joe Easton   \n",
       "...                               ...          ...             ...   \n",
       "106012  2020-02-15T18:00:00.000+02:00            6            Duh!   \n",
       "106013  2020-02-15T11:38:00.000+02:00           30           Henry   \n",
       "106014  2020-02-14T07:00:00.000+02:00            0                   \n",
       "106015  2020-02-15T22:25:00.000+02:00            0  Andrew McKirdy   \n",
       "106016  2020-02-14T19:03:00.000+02:00            0    ABS-CBN News   \n",
       "\n",
       "                                                     URLs countries  \n",
       "0       https://m.dailyhunt.in/news/india/english/uday...        IN  \n",
       "1       http://cnnphilippines.com/videos/2020/1/28/Hea...        US  \n",
       "2       https://news.ycombinator.com/item?id=22194798#...        US  \n",
       "3       https://www.rttnews.com/3064615/asian-markets-...        US  \n",
       "4       http://www.bnnbloomberg.ca/tesla-soars-as-bear...        CA  \n",
       "...                                                   ...       ...  \n",
       "106012  https://news.yahoo.com/xi-details-hands-approa...        US  \n",
       "106013  https://ph.news.yahoo.com/wandering-ship-becom...        PH  \n",
       "106014  https://www.urdupoint.com/en/miscellaneous/wal...        PK  \n",
       "106015  https://www.japantimes.co.jp/news/2020/02/15/n...        JP  \n",
       "106016  https://news.abs-cbn.com/video/business/02/15/...        US  \n",
       "\n",
       "[106017 rows x 8 columns]"
      ]
     },
     "execution_count": 42,
     "metadata": {},
     "output_type": "execute_result"
    }
   ],
   "source": [
    "df1"
   ]
  },
  {
   "cell_type": "code",
   "execution_count": 106,
   "id": "eight-isaac",
   "metadata": {},
   "outputs": [],
   "source": [
    "#csv for hw 1\n",
    "\n",
    "df1.to_csv(\"hw1summarizeddata.csv\")"
   ]
  },
  {
   "cell_type": "code",
   "execution_count": 13,
   "id": "political-locking",
   "metadata": {},
   "outputs": [],
   "source": [
    "BlogCorpus=' '.join(posttext)\n"
   ]
  },
  {
   "cell_type": "code",
   "execution_count": 15,
   "id": "associate-destination",
   "metadata": {},
   "outputs": [
    {
     "data": {
      "text/plain": [
       "106017"
      ]
     },
     "execution_count": 15,
     "metadata": {},
     "output_type": "execute_result"
    }
   ],
   "source": [
    "\n",
    "len(posttext)"
   ]
  },
  {
   "cell_type": "code",
   "execution_count": 16,
   "id": "surgical-tennessee",
   "metadata": {},
   "outputs": [],
   "source": [
    "tokens=[]\n",
    "for i in range(0,len(posttext)):\n",
    "    tokens+=nltk.word_tokenize(posttext[i])"
   ]
  },
  {
   "cell_type": "code",
   "execution_count": 18,
   "id": "continuing-terrace",
   "metadata": {},
   "outputs": [
    {
     "data": {
      "text/plain": [
       "65580273"
      ]
     },
     "execution_count": 18,
     "metadata": {},
     "output_type": "execute_result"
    }
   ],
   "source": [
    "len(tokens)"
   ]
  },
  {
   "cell_type": "code",
   "execution_count": 122,
   "id": "eleven-connectivity",
   "metadata": {},
   "outputs": [
    {
     "data": {
      "text/plain": [
       "106017"
      ]
     },
     "execution_count": 122,
     "metadata": {},
     "output_type": "execute_result"
    }
   ],
   "source": [
    "len(posttext)"
   ]
  },
  {
   "cell_type": "code",
   "execution_count": null,
   "id": "proud-munich",
   "metadata": {},
   "outputs": [],
   "source": [
    "from nltk import FreqDist \n"
   ]
  },
  {
   "cell_type": "code",
   "execution_count": 44,
   "id": "surprising-weekend",
   "metadata": {},
   "outputs": [],
   "source": [
    "from nltk import FreqDist \n",
    "#stop word list\n",
    "stopwords=nltk.corpus.stopwords.words('english')\n",
    "stopwords.append(\"'s\")"
   ]
  },
  {
   "cell_type": "code",
   "execution_count": 27,
   "id": "grateful-government",
   "metadata": {},
   "outputs": [],
   "source": [
    "def alpha_filter(w):\n",
    "  # pattern to match a word of non-alphabetical characters\n",
    "    pattern = re.compile('^[^a-z]+$')\n",
    "    if (pattern.match(w)):\n",
    "        return True\n",
    "    else:\n",
    "        return False"
   ]
  },
  {
   "cell_type": "code",
   "execution_count": 45,
   "id": "unexpected-enhancement",
   "metadata": {},
   "outputs": [
    {
     "data": {
      "text/plain": [
       "31249272"
      ]
     },
     "execution_count": 45,
     "metadata": {},
     "output_type": "execute_result"
    }
   ],
   "source": [
    "stoppedPostwords = [w for w in tokens if w not in stopwords]\n",
    "len(stoppedPostwords)"
   ]
  },
  {
   "cell_type": "code",
   "execution_count": 28,
   "id": "catholic-corruption",
   "metadata": {},
   "outputs": [],
   "source": [
    "alphapostwords = [w for w in stoppedPostwords if not alpha_filter(w)]"
   ]
  },
  {
   "cell_type": "code",
   "execution_count": 31,
   "id": "caring-bottle",
   "metadata": {},
   "outputs": [],
   "source": [
    "postwordslowercase = [w.lower() for w in alphapostwords]"
   ]
  },
  {
   "cell_type": "code",
   "execution_count": 51,
   "id": "novel-blues",
   "metadata": {},
   "outputs": [
    {
     "name": "stdout",
     "output_type": "stream",
     "text": [
      "said 341803 0.010937950810502082\n",
      "china 318929 0.010205965758178302\n",
      "coronavirus 294998 0.009440155917872263\n",
      "virus 188830 0.006042700770757156\n",
      "people 177291 0.005673444168555351\n",
      "health 175064 0.00560217850835053\n",
      "new 172149 0.005508896335249026\n",
      "outbreak 136412 0.00436528569369552\n",
      "cases 132312 0.004234082637189116\n",
      "also 119003 0.0038081847154711316\n",
      "chinese 114379 0.003660213268328299\n",
      "one 92591 0.0029629810256059726\n",
      "year 90830 0.0029066277127991974\n",
      "wuhan 90515 0.002896547477970047\n",
      "world 89387 0.002860450637058041\n",
      "would 80532 0.002577084035749697\n",
      "first 75476 0.0024152882665554576\n",
      "two 74157 0.0023730792832549826\n",
      "government 69316 0.0022181636743409576\n",
      "last 69062 0.0022100354849866584\n",
      "confirmed 67658 0.002165106438319587\n",
      "could 66485 0.0021275695638605595\n",
      "spread 64266 0.0020565599096196547\n",
      "news 62130 0.0019882063172543666\n",
      "million 61348 0.001963181734281682\n",
      "text 61030 0.001953005497216063\n",
      "global 60866 0.001947757374955807\n",
      "reported 60243 0.0019278209105159313\n",
      "public 59976 0.0019192767114702704\n",
      "time 59645 0.0019086844647132899\n",
      "february 57705 0.0018466030184639182\n",
      "disease 56275 0.0018008419524141233\n",
      "ship 56002 0.0017921057488955263\n",
      "week 54940 0.0017581209571858186\n",
      "company 54555 0.0017458006701724124\n",
      "including 53294 0.0017054477301103206\n",
      "number 53064 0.0016980875586477663\n",
      "may 52714 0.0016868872977264878\n",
      "market 49358 0.0015794927958641724\n",
      "passengers 49224 0.0015752046959685972\n",
      "city 48822 0.0015623403962818719\n",
      "location 48589 0.0015548842225828494\n",
      "country 48549 0.0015536041927632746\n",
      "quarantine 48377 0.0015481000645391034\n",
      "infected 47963 0.0015348517559065056\n",
      "like 47278 0.0015129312452462893\n",
      "says 47188 0.0015100511781522463\n",
      "medical 46404 0.0014849625936885825\n",
      "according 46379 0.0014841625750513484\n",
      "many 46097 0.0014751383648233468\n"
     ]
    }
   ],
   "source": [
    "postdist = FreqDist(stoppedPostwords)\n",
    "postitems = postdist.most_common(50)\n",
    "for item,num in postitems:\n",
    "        print(item,num,num/(len(stoppedPostwords)))"
   ]
  },
  {
   "cell_type": "code",
   "execution_count": null,
   "id": "productive-usage",
   "metadata": {},
   "outputs": [],
   "source": [
    "scored=finder.score_ngrams(bigram_measures.pmi)\n",
    "for bscore in scored[:30]:\n",
    "    print(bscore)"
   ]
  },
  {
   "cell_type": "code",
   "execution_count": 26,
   "id": "cloudy-enzyme",
   "metadata": {},
   "outputs": [],
   "source": [
    "import re"
   ]
  },
  {
   "cell_type": "code",
   "execution_count": 29,
   "id": "assigned-inspiration",
   "metadata": {},
   "outputs": [
    {
     "data": {
      "text/plain": [
       "32943922"
      ]
     },
     "execution_count": 29,
     "metadata": {},
     "output_type": "execute_result"
    }
   ],
   "source": [
    "len(alphapostwords)"
   ]
  },
  {
   "cell_type": "code",
   "execution_count": 49,
   "id": "quarterly-station",
   "metadata": {},
   "outputs": [
    {
     "data": {
      "text/plain": [
       "31249272"
      ]
     },
     "execution_count": 49,
     "metadata": {},
     "output_type": "execute_result"
    }
   ],
   "source": [
    "finalpostwords=stoppedPostwords\n",
    "len(finalpostwords)"
   ]
  },
  {
   "cell_type": "code",
   "execution_count": 55,
   "id": "successful-incident",
   "metadata": {},
   "outputs": [],
   "source": [
    "from nltk.collocations import *"
   ]
  },
  {
   "cell_type": "code",
   "execution_count": 56,
   "id": "framed-ridge",
   "metadata": {},
   "outputs": [],
   "source": [
    "bigram_measures = nltk.collocations.BigramAssocMeasures()"
   ]
  },
  {
   "cell_type": "code",
   "execution_count": 57,
   "id": "finite-washer",
   "metadata": {},
   "outputs": [
    {
     "name": "stdout",
     "output_type": "stream",
     "text": [
      "(('coronavirus', 'outbreak'), 0.0014286092808818074)\n",
      "(('location', 'text'), 0.0014023046680895477)\n",
      "(('hong', 'kong'), 0.0013093105016974476)\n",
      "(('novel', 'coronavirus'), 0.0012274205939901575)\n",
      "(('public', 'health'), 0.000838131525112009)\n",
      "(('confirmed', 'cases'), 0.0008311233618498377)\n",
      "(('world', 'health'), 0.0008028027020917479)\n",
      "(('cruise', 'ship'), 0.0007922424560802569)\n",
      "(('new', 'coronavirus'), 0.0007287209762838635)\n",
      "(('per', 'cent'), 0.000717424713126117)\n",
      "(('hubei', 'province'), 0.0007034403873472637)\n",
      "(('text', 'location'), 0.0006227345072230803)\n",
      "(('mainland', 'china'), 0.000621582480385463)\n",
      "(('health', 'organization'), 0.0006101262135002697)\n",
      "(('united', 'states'), 0.0006027020405467365)\n",
      "(('rating', 'name'), 0.0005780934672654134)\n",
      "(('last', 'year'), 0.0005676932249813691)\n",
      "(('new', 'cases'), 0.0005520768611825581)\n",
      "(('threshold', 'type'), 0.0005501568164531961)\n",
      "(('type', 'textpattern'), 0.0005501568164531961)\n",
      "(('textpattern', 'score'), 0.0005420926285898757)\n",
      "(('diamond', 'princess'), 0.0005208121328394466)\n",
      "(('death', 'toll'), 0.0005188600873645953)\n",
      "(('last', 'week'), 0.0005055157764955292)\n",
      "(('tested', 'positive'), 0.00046711488190828894)\n",
      "(('new', 'virus'), 0.00045946670373633023)\n",
      "(('health', 'officials'), 0.0004399462489878164)\n",
      "(('new', 'year'), 0.0004394662378054759)\n",
      "(('score', 'rating'), 0.0003766167736643593)\n",
      "(('count', 'rule'), 0.0003580243405350371)\n",
      "(('pattern', 'count'), 0.00035264821529282345)\n",
      "(('social', 'media'), 0.0003496721459623123)\n",
      "(('new', 'york'), 0.0003298636845043942)\n",
      "(('disease', 'control'), 0.0003285196531938408)\n",
      "(('two', 'weeks'), 0.000322951523478691)\n",
      "(('coronavirus', 'cases'), 0.00031655137438081756)\n",
      "(('spread', 'virus'), 0.00030291905680234724)\n",
      "(('lunar', 'new'), 0.00030090300983651717)\n",
      "(('health', 'commission'), 0.0002946628644660906)\n",
      "(('around', 'world'), 0.000293126828682601)\n",
      "(('associated', 'press'), 0.00028880672804153647)\n",
      "(('killed', 'people'), 0.000279174503649237)\n",
      "(('said', 'statement'), 0.00027389438064349145)\n",
      "(('prime', 'minister'), 0.0002695742800024269)\n",
      "(('outside', 'china'), 0.0002629181249406386)\n",
      "(('city', 'wuhan'), 0.00026205410481242573)\n",
      "(('last', 'month'), 0.0002609020779748085)\n",
      "(('passengers', 'crew'), 0.00025450192887693513)\n",
      "(('south', 'korea'), 0.00025242188042012625)\n",
      "(('wuhan', 'china'), 0.00025117385134604096)\n"
     ]
    }
   ],
   "source": [
    "finder = BigramCollocationFinder.from_words(finalpostwords)\n",
    "finder.apply_word_filter(alpha_filter)\n",
    "scored = finder.score_ngrams(bigram_measures.raw_freq)\n",
    "for bscore in scored[:50]:\n",
    "        print (bscore)"
   ]
  },
  {
   "cell_type": "code",
   "execution_count": 58,
   "id": "pressed-error",
   "metadata": {},
   "outputs": [
    {
     "name": "stdout",
     "output_type": "stream",
     "text": [
      "((\"'+gtranslategetcurrentlang\", '.parent'), 24.897319244571104)\n",
      "((\"'.\\\\n\\\\\", 'appalled\\\\'), 24.897319244571104)\n",
      "((\"'//cdn.viglink.com/api/vglnk.js\", 'key='), 24.897319244571104)\n",
      "((\"'//d16cunm4ue8a76.cloudfront.net/wp-content/plugins/wpadverts/assets/font/adverts-glyphs.svg\", 'adverts-glyphs'), 24.897319244571104)\n",
      "((\"'adaptive\", \"'responsive\"), 24.897319244571104)\n",
      "((\"'almighty\", 'punch-up'), 24.897319244571104)\n",
      "((\"'amaze\", \"'shocking\"), 24.897319244571104)\n",
      "((\"'anuc\", \"niwh'it'en\"), 24.897319244571104)\n",
      "((\"'aspirational\", \"'perspirational\"), 24.897319244571104)\n",
      "((\"'bagnet\", \"'longganisa\"), 24.897319244571104)\n",
      "((\"'burden\", \"taxes'\"), 24.897319244571104)\n",
      "((\"'cannon\", \"fodder'\"), 24.897319244571104)\n",
      "((\"'chino\", 'cuâ\\x80ś'), 24.897319244571104)\n",
      "((\"'constitutionalism\", \"'separation\"), 24.897319244571104)\n",
      "((\"'cr\", \"p'\"), 24.897319244571104)\n",
      "((\"'culling\", 'billion+'), 24.897319244571104)\n",
      "((\"'data-img-src\", 'img.classlist.add'), 24.897319244571104)\n",
      "((\"'data-img-srcset\", 'img.classlist.remove'), 24.897319244571104)\n",
      "((\"'deferred\", \"deleted'dominic\"), 24.897319244571104)\n",
      "((\"'delightfully\", \"devilish'\"), 24.897319244571104)\n",
      "((\"'disbeliever\", \"'ardent\"), 24.897319244571104)\n",
      "((\"'doamond\", 'ürincess'), 24.897319244571104)\n",
      "((\"'dos\", \"'don'ts\"), 24.897319244571104)\n",
      "((\"'down\", \"over-eagerness'\"), 24.897319244571104)\n",
      "((\"'en\", 'autodisplay'), 24.897319244571104)\n",
      "((\"'engineer\", \"'mathematician\"), 24.897319244571104)\n",
      "((\"'erə.sɑl\", '），是指飞沫在空气悬浮过程中失去水分而剩下的蛋白质（protein）和病原体（pathogen）组成的核，形成飞沫核（droplet'), 24.897319244571104)\n",
      "((\"'exaggerations\", \"'overreactions\"), 24.897319244571104)\n",
      "((\"'fondest\", \"performances'\"), 24.897319244571104)\n",
      "((\"'forecasting\", \"errors'\"), 24.897319244571104)\n",
      "((\"'foreseeable\", \"future'…\"), 24.897319244571104)\n",
      "((\"'fund\", 'folio-indian'), 24.897319244571104)\n",
      "((\"'greatly\", \"deteriorated'\"), 24.897319244571104)\n",
      "((\"'grilltown\", \"'hilton\"), 24.897319244571104)\n",
      "((\"'guess\", \"mayor'\"), 24.897319244571104)\n",
      "((\"'historic'\", \"'gully\"), 24.897319244571104)\n",
      "((\"'honest\", \"'motives\"), 24.897319244571104)\n",
      "((\"'htmlevents\", 'evt.initevent'), 24.897319244571104)\n",
      "((\"'improving\", \"tone'\"), 24.897319244571104)\n",
      "((\"'insane\", \"insane'\"), 24.897319244571104)\n",
      "((\"'irrational\", \"immoral'\"), 24.897319244571104)\n",
      "((\"'karoo\", 'firewalkers'), 24.897319244571104)\n",
      "((\"'klopp\", \"wants'\"), 24.897319244571104)\n",
      "((\"'latent\", \"racism'\"), 24.897319244571104)\n",
      "((\"'longganisa\", \"'empanada\"), 24.897319244571104)\n",
      "((\"'market\", 'highnnhttps'), 24.897319244571104)\n",
      "((\"'mathematician\", \"'physicist\"), 24.897319244571104)\n",
      "((\"'matri\", 'pitri'), 24.897319244571104)\n",
      "((\"'miserable\", \"'trip\"), 24.897319244571104)\n",
      "((\"'molecular\", \"clamp'cepi\"), 24.897319244571104)\n"
     ]
    }
   ],
   "source": [
    "scored=finder.score_ngrams(bigram_measures.pmi)\n",
    "for bscore in scored[:50]:\n",
    "    print(bscore)"
   ]
  },
  {
   "cell_type": "code",
   "execution_count": 60,
   "id": "signed-belief",
   "metadata": {},
   "outputs": [],
   "source": [
    "import matplotlib.pyplot as plt"
   ]
  },
  {
   "cell_type": "code",
   "execution_count": 73,
   "id": "higher-purpose",
   "metadata": {},
   "outputs": [
    {
     "data": {
      "text/html": [
       "<div>\n",
       "<style scoped>\n",
       "    .dataframe tbody tr th:only-of-type {\n",
       "        vertical-align: middle;\n",
       "    }\n",
       "\n",
       "    .dataframe tbody tr th {\n",
       "        vertical-align: top;\n",
       "    }\n",
       "\n",
       "    .dataframe thead th {\n",
       "        text-align: right;\n",
       "    }\n",
       "</style>\n",
       "<table border=\"1\" class=\"dataframe\">\n",
       "  <thead>\n",
       "    <tr style=\"text-align: right;\">\n",
       "      <th></th>\n",
       "      <th>Text</th>\n",
       "    </tr>\n",
       "    <tr>\n",
       "      <th>countries</th>\n",
       "      <th></th>\n",
       "    </tr>\n",
       "  </thead>\n",
       "  <tbody>\n",
       "    <tr>\n",
       "      <th>US</th>\n",
       "      <td>54937</td>\n",
       "    </tr>\n",
       "    <tr>\n",
       "      <th>GB</th>\n",
       "      <td>8257</td>\n",
       "    </tr>\n",
       "    <tr>\n",
       "      <th>IN</th>\n",
       "      <td>5096</td>\n",
       "    </tr>\n",
       "    <tr>\n",
       "      <th>AU</th>\n",
       "      <td>4118</td>\n",
       "    </tr>\n",
       "    <tr>\n",
       "      <th>CA</th>\n",
       "      <td>3760</td>\n",
       "    </tr>\n",
       "    <tr>\n",
       "      <th>CN</th>\n",
       "      <td>2982</td>\n",
       "    </tr>\n",
       "    <tr>\n",
       "      <th>FR</th>\n",
       "      <td>2859</td>\n",
       "    </tr>\n",
       "    <tr>\n",
       "      <th>SG</th>\n",
       "      <td>2287</td>\n",
       "    </tr>\n",
       "    <tr>\n",
       "      <th>PH</th>\n",
       "      <td>2265</td>\n",
       "    </tr>\n",
       "    <tr>\n",
       "      <th>ZA</th>\n",
       "      <td>2087</td>\n",
       "    </tr>\n",
       "  </tbody>\n",
       "</table>\n",
       "</div>"
      ],
      "text/plain": [
       "            Text\n",
       "countries       \n",
       "US         54937\n",
       "GB          8257\n",
       "IN          5096\n",
       "AU          4118\n",
       "CA          3760\n",
       "CN          2982\n",
       "FR          2859\n",
       "SG          2287\n",
       "PH          2265\n",
       "ZA          2087"
      ]
     },
     "execution_count": 73,
     "metadata": {},
     "output_type": "execute_result"
    }
   ],
   "source": [
    "df1.groupby('countries').count()[['Text']].sort_values(by =['Text'], ascending = False)[:10]\n",
    "\n",
    "#zoo.sort_values(by = ['water_need'], ascending = False)"
   ]
  },
  {
   "cell_type": "code",
   "execution_count": 78,
   "id": "egyptian-schema",
   "metadata": {},
   "outputs": [
    {
     "data": {
      "image/png": "[encoded data removed]",
      "text/plain": [
       "<Figure size 432x288 with 1 Axes>"
      ]
     },
     "metadata": {
      "needs_background": "light"
     },
     "output_type": "display_data"
    }
   ],
   "source": [
    "plt.plot(df1.groupby('countries').count()[['Text']].sort_values(by =['Text'], ascending = False)[:10])\n",
    "plt.title('Country each post originated from (top 10)')\n",
    "plt.ylabel('# of posts')\n",
    "plt.xlabel('Countries')\n",
    "plt.grid()\n",
    "plt.show()"
   ]
  },
  {
   "cell_type": "code",
   "execution_count": 71,
   "id": "public-illinois",
   "metadata": {},
   "outputs": [
    {
     "data": {
      "text/plain": [
       "3239.5590612826245"
      ]
     },
     "execution_count": 71,
     "metadata": {},
     "output_type": "execute_result"
    }
   ],
   "source": [
    "\n",
    "df1[\"Text Length\"]=df1['Text'].str.len()\n",
    "df1[\"Text Length\"].mean()"
   ]
  },
  {
   "cell_type": "code",
   "execution_count": 91,
   "id": "basic-kitty",
   "metadata": {},
   "outputs": [
    {
     "data": {
      "text/html": [
       "<div>\n",
       "<style scoped>\n",
       "    .dataframe tbody tr th:only-of-type {\n",
       "        vertical-align: middle;\n",
       "    }\n",
       "\n",
       "    .dataframe tbody tr th {\n",
       "        vertical-align: top;\n",
       "    }\n",
       "\n",
       "    .dataframe thead th {\n",
       "        text-align: right;\n",
       "    }\n",
       "</style>\n",
       "<table border=\"1\" class=\"dataframe\">\n",
       "  <thead>\n",
       "    <tr style=\"text-align: right;\">\n",
       "      <th></th>\n",
       "      <th>Reply Count</th>\n",
       "    </tr>\n",
       "    <tr>\n",
       "      <th>countries</th>\n",
       "      <th></th>\n",
       "    </tr>\n",
       "  </thead>\n",
       "  <tbody>\n",
       "    <tr>\n",
       "      <th>US</th>\n",
       "      <td>1560628</td>\n",
       "    </tr>\n",
       "    <tr>\n",
       "      <th>GB</th>\n",
       "      <td>15308</td>\n",
       "    </tr>\n",
       "    <tr>\n",
       "      <th>PH</th>\n",
       "      <td>13983</td>\n",
       "    </tr>\n",
       "    <tr>\n",
       "      <th>SG</th>\n",
       "      <td>6461</td>\n",
       "    </tr>\n",
       "    <tr>\n",
       "      <th></th>\n",
       "      <td>767</td>\n",
       "    </tr>\n",
       "    <tr>\n",
       "      <th>KE</th>\n",
       "      <td>611</td>\n",
       "    </tr>\n",
       "    <tr>\n",
       "      <th>ZA</th>\n",
       "      <td>469</td>\n",
       "    </tr>\n",
       "    <tr>\n",
       "      <th>NL</th>\n",
       "      <td>421</td>\n",
       "    </tr>\n",
       "    <tr>\n",
       "      <th>MY</th>\n",
       "      <td>127</td>\n",
       "    </tr>\n",
       "    <tr>\n",
       "      <th>BG</th>\n",
       "      <td>89</td>\n",
       "    </tr>\n",
       "  </tbody>\n",
       "</table>\n",
       "</div>"
      ],
      "text/plain": [
       "           Reply Count\n",
       "countries             \n",
       "US             1560628\n",
       "GB               15308\n",
       "PH               13983\n",
       "SG                6461\n",
       "                   767\n",
       "KE                 611\n",
       "ZA                 469\n",
       "NL                 421\n",
       "MY                 127\n",
       "BG                  89"
      ]
     },
     "execution_count": 91,
     "metadata": {},
     "output_type": "execute_result"
    }
   ],
   "source": [
    "df1.groupby('countries').sum('Reply Count')[['Reply Count']].sort_values(by =['Reply Count'], ascending = False)[:10]"
   ]
  }
 ],
 "metadata": {
  "kernelspec": {
   "display_name": "Python 3",
   "language": "python",
   "name": "python3"
  },
  "language_info": {
   "codemirror_mode": {
    "name": "ipython",
    "version": 3
   },
   "file_extension": ".py",
   "mimetype": "text/x-python",
   "name": "python",
   "nbconvert_exporter": "python",
   "pygments_lexer": "ipython3",
   "version": "3.8.5"
  }
 },
 "nbformat": 4,
 "nbformat_minor": 5
}
